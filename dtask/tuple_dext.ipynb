{
 "cells": [
  {
   "cell_type": "code",
   "execution_count": 14,
   "id": "5fbe8c6b-57c9-4981-832a-38eef82b5392",
   "metadata": {
    "tags": []
   },
   "outputs": [],
   "source": [
    "import logging as lg\n",
    "\n",
    "# creating logger and setting the level\n",
    "logger = lg.getLogger()\n",
    "logger.setLevel(lg.DEBUG)\n",
    "\n",
    "## creating handler and formatter \n",
    "\n",
    "shandler = lg.StreamHandler()\n",
    "fhandler = lg.FileHandler(\"tup_dext.log\")\n",
    "sformatter = lg.Formatter(\"%(levelno)s | %(message)s\")\n",
    "fformatter = lg.Formatter(\"%(asctime)s | %(levelname)s | %(message)s\")\n",
    "shandler.setFormatter(sformatter)\n",
    "fhandler.setFormatter(fformatter)\n",
    "\n",
    "## adding handler to the logger\n",
    "\n",
    "logger.addHandler(shandler)\n",
    "logger.addHandler(fhandler)\n",
    "\n",
    "class Tup_Dext:\n",
    "    \n",
    "    def __init__(self, tup_data):\n",
    "        self.tup_data = tup_data\n",
    "        \n",
    "    def data_ext(self,s_point,e_point):\n",
    "        '''\n",
    "        func will try to extract the data from the tuple\n",
    "        '''\n",
    "        logger.info(\"Analyzing the tuple data\")\n",
    "        try:\n",
    "            if type(self.tup_data) == tuple:\n",
    "                if e_point <= len(self.tup_data):\n",
    "                    result = self.tup_data[s_point:e_point:1]\n",
    "                    logger.debug(\"Data extracted..\")\n",
    "                    return result\n",
    "\n",
    "                else:\n",
    "                    logger.warning(\"End point is out of len of tup\")\n",
    "            else:\n",
    "                raise TypeError(\"Given data is not a tuple\")\n",
    "                \n",
    "        except Exception as e:\n",
    "            logger.error(f\"oops you got an error: {e}\")"
   ]
  },
  {
   "cell_type": "code",
   "execution_count": 16,
   "id": "3055778b-b315-4404-bfed-87a5240fb4b1",
   "metadata": {
    "tags": []
   },
   "outputs": [],
   "source": [
    "dat_ext = Tup_Dext((1,2,3,4,5,6,7,8,\"Sam\"))"
   ]
  },
  {
   "cell_type": "code",
   "execution_count": 18,
   "id": "dbd3c6d3-2edb-41d7-bd75-3e99f891fefd",
   "metadata": {
    "tags": []
   },
   "outputs": [
    {
     "name": "stderr",
     "output_type": "stream",
     "text": [
      "20 | Analyzing the tuple data\n",
      "20 | Analyzing the tuple data\n",
      "30 | End point is out of len of tup\n",
      "30 | End point is out of len of tup\n"
     ]
    }
   ],
   "source": [
    "dat_ext.data_ext(9,10)"
   ]
  },
  {
   "cell_type": "code",
   "execution_count": 21,
   "id": "5cc05585-033c-4936-937d-0da1d1097184",
   "metadata": {
    "tags": []
   },
   "outputs": [],
   "source": [
    "test = Tup_Dext([1,2,3,4])"
   ]
  },
  {
   "cell_type": "code",
   "execution_count": 25,
   "id": "13a89c75-b6f3-49fb-a6a4-4ff9b910394c",
   "metadata": {
    "tags": []
   },
   "outputs": [
    {
     "name": "stderr",
     "output_type": "stream",
     "text": [
      "20 | Analyzing the tuple data\n",
      "20 | Analyzing the tuple data\n",
      "40 | oops you got an error: Given data is not a tuple\n",
      "40 | oops you got an error: Given data is not a tuple\n"
     ]
    }
   ],
   "source": [
    "test.data_ext(1,3)"
   ]
  },
  {
   "cell_type": "code",
   "execution_count": null,
   "id": "a089a674-9729-40fe-b2fe-a2a1f85be0da",
   "metadata": {},
   "outputs": [],
   "source": []
  }
 ],
 "metadata": {
  "kernelspec": {
   "display_name": "Python 3 (ipykernel)",
   "language": "python",
   "name": "python3"
  },
  "language_info": {
   "codemirror_mode": {
    "name": "ipython",
    "version": 3
   },
   "file_extension": ".py",
   "mimetype": "text/x-python",
   "name": "python",
   "nbconvert_exporter": "python",
   "pygments_lexer": "ipython3",
   "version": "3.10.0"
  }
 },
 "nbformat": 4,
 "nbformat_minor": 5
}
