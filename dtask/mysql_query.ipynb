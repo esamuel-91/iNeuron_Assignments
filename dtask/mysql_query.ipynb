{
 "cells": [
  {
   "cell_type": "code",
   "execution_count": 19,
   "id": "b639dd33-fc8d-4a24-bb47-729e3567c7c2",
   "metadata": {
    "tags": []
   },
   "outputs": [],
   "source": [
    "import mysql.connector\n",
    "import logging as lg\n",
    "\n",
    "# creating logger and setting the level\n",
    "logger = lg.getLogger()\n",
    "logger.setLevel(lg.DEBUG)\n",
    "\n",
    "\n",
    "#creating handlers and adding the formatters\n",
    "shandler = lg.StreamHandler()\n",
    "fhandler = lg.FileHandler(\"mysql_query.log\")\n",
    "\n",
    "sformatter = lg.Formatter(\"%(levelno)s | %(message)s\")\n",
    "fformatter = lg.Formatter(\"%(asctime)s | %(levelname)s | %(message)s\")\n",
    "\n",
    "shandler.setFormatter(sformatter)\n",
    "fhandler.setFormatter(fformatter)\n",
    "\n",
    "## adding handlers to the logger\n",
    "\n",
    "logger.addHandler(shandler)\n",
    "logger.addHandler(fhandler)\n",
    "\n",
    "class Mysql:\n",
    "    \n",
    "    def __init__(self,host,user,password):\n",
    "        self.host = host\n",
    "        self.user = user\n",
    "        self.password = password\n",
    "        self.mycur = None\n",
    "        \n",
    "    def connect(self):\n",
    "        logger.info(\"trying to connect to the mysql server\")\n",
    "        try:\n",
    "            mydb = mysql.connector.connect(\n",
    "                host = self.host,\n",
    "                user = self.user,\n",
    "                password = self.password\n",
    "            )\n",
    "\n",
    "            logger.debug(f\"You are connceted now.. {mydb.is_connected()}\")\n",
    "        \n",
    "        except Exception as e:\n",
    "            logger.error(f\"Unable to connect to the server: {e}\")\n",
    "        \n",
    "    def cursor(self):\n",
    "        logger.info(\"creating cursor...\")\n",
    "        \n",
    "        try:\n",
    "            self.mycur = self.mydb.cursor()\n",
    "            logger.debug(\"Cursor created!\")\n",
    "            return self.mycur\n",
    "        \n",
    "        except Exception as e:\n",
    "            logger.error(f\"this is an error: {e}\")\n",
    "            \n",
    "    def insert(self,database_name,table_name,data):\n",
    "        logger.info(\"Trying to insert the data\")\n",
    "        try:\n",
    "            sql = f\"INSERT INTO {database_name}.{table_name} VALUES (%s, %s, %s)\"\n",
    "            self.mycur.execute(sql,data)\n",
    "            logger.debug(\"data added\")\n",
    "        except Exception as e:\n",
    "            logger.error(f\"oops you got an error: {e}\")"
   ]
  },
  {
   "cell_type": "code",
   "execution_count": 21,
   "id": "19699f5d-793b-476f-8eec-64fa1b7636de",
   "metadata": {
    "tags": []
   },
   "outputs": [],
   "source": [
    "test = Mysql(\"localhost\",\"root\",\"password\")"
   ]
  },
  {
   "cell_type": "code",
   "execution_count": 23,
   "id": "f655eb74-14ce-4913-ae9e-d85ddebd5f5a",
   "metadata": {
    "tags": []
   },
   "outputs": [
    {
     "name": "stderr",
     "output_type": "stream",
     "text": [
      "20 | trying to connect to the mysql server\n",
      "20 | trying to connect to the mysql server\n",
      "20 | trying to connect to the mysql server\n",
      "20 | trying to connect to the mysql server\n",
      "40 | Unable to connect to the server: 1045 (28000): Access denied for user 'root'@'localhost' (using password: YES)\n",
      "40 | Unable to connect to the server: 1045 (28000): Access denied for user 'root'@'localhost' (using password: YES)\n",
      "40 | Unable to connect to the server: 1045 (28000): Access denied for user 'root'@'localhost' (using password: YES)\n",
      "40 | Unable to connect to the server: 1045 (28000): Access denied for user 'root'@'localhost' (using password: YES)\n"
     ]
    }
   ],
   "source": [
    "test.connect()"
   ]
  },
  {
   "cell_type": "code",
   "execution_count": null,
   "id": "bf7c4cf1-a97c-4036-9869-5ac804ff8835",
   "metadata": {},
   "outputs": [],
   "source": []
  }
 ],
 "metadata": {
  "kernelspec": {
   "display_name": "Python 3 (ipykernel)",
   "language": "python",
   "name": "python3"
  },
  "language_info": {
   "codemirror_mode": {
    "name": "ipython",
    "version": 3
   },
   "file_extension": ".py",
   "mimetype": "text/x-python",
   "name": "python",
   "nbconvert_exporter": "python",
   "pygments_lexer": "ipython3",
   "version": "3.10.0"
  }
 },
 "nbformat": 4,
 "nbformat_minor": 5
}
