{
 "cells": [
  {
   "cell_type": "code",
   "execution_count": null,
   "id": "88d5dbef-7e2f-4a14-8c73-3fdd3d2a17ce",
   "metadata": {
    "tags": []
   },
   "outputs": [],
   "source": [
    "#Create a class to build a calculator funcnalities addition , subtraction , multiplication ,div , log , exponenet , power "
   ]
  },
  {
   "cell_type": "code",
   "execution_count": 2,
   "id": "2bf94f30-1177-4304-808f-e55f23eb1c33",
   "metadata": {
    "tags": []
   },
   "outputs": [],
   "source": [
    "import logging\n",
    "import math\n",
    "\n",
    "logger = logging.getLogger()\n",
    "logger.setLevel(logging.DEBUG)\n",
    "\n",
    "shandler = logging.StreamHandler()\n",
    "fhandler = logging.FileHandler(\"Calulator.log\")\n",
    "sformatter = logging.Formatter(\"%(levelno)s | %(message)s\")\n",
    "fformatter = logging.Formatter(\"%(asctime)s | %(levelname)s | %(message)s\")\n",
    "shandler.setFormatter(sformatter)\n",
    "fhandler.setFormatter(fformatter)\n",
    "\n",
    "logger.addHandler(shandler)\n",
    "logger.addHandler(fhandler)\n",
    "\n",
    "class Calculator:\n",
    "    \n",
    "    def __init__(self,num1,num2):\n",
    "        self.num1 = num1\n",
    "        self.num2 = num2\n",
    "        \n",
    "    def add(self):\n",
    "        '''\n",
    "        func will add the 2 numbers provided.\n",
    "        '''\n",
    "        logger.info(\"Attempting to add the numbers\")\n",
    "        try:\n",
    "            if type(self.num1) == float and type(self.num2) == float:\n",
    "                result = self.num1 + self.num2\n",
    "                logger.debug(\"addition successful\")\n",
    "                return result\n",
    "            elif type(self.num1) == int and type(self.num2) == int:\n",
    "                result = self.num1 + self.num2\n",
    "                logger.debug(\"Addition successful\")\n",
    "                return result \n",
    "            else:\n",
    "                raise TypeError (\"Given number is not a number\")\n",
    "        except Exception as e:\n",
    "            logger.error(f\"addition failed: {e}\")\n",
    "            \n",
    "    def subtract(self):\n",
    "        '''\n",
    "        func will subtract the 2 numbers provided.\n",
    "        '''\n",
    "        logger.info(\"Attempting to subtract the numbers\")\n",
    "        try:\n",
    "            if type(self.num1) == float and type(self.num2) == float:\n",
    "                result = self.num1 - self.num2\n",
    "                logger.debug(\"Subtraction successful\")\n",
    "                return result\n",
    "            elif type(self.num1) == int and type(self.num2) == int:\n",
    "                result = self.num1 - self.num2\n",
    "                logger.debug(\"Subtraction successful\")\n",
    "                return result \n",
    "            else:\n",
    "                raise TypeError (\"Given number is not a number\")\n",
    "        except Exception as e:\n",
    "            logger.error(f\"Subtraction failed: {e}\")\n",
    "            \n",
    "    def multiplication(self):\n",
    "        '''\n",
    "        func will multiply the 2 numbers provided.\n",
    "        '''\n",
    "        logger.info(\"Attempting to multiply the numbers\")\n",
    "        try:\n",
    "            if type(self.num1) == float and type(self.num2) == float:\n",
    "                result = self.num1 * self.num2\n",
    "                logger.debug(\"Multiplication successful\")\n",
    "                return result\n",
    "            elif type(self.num1) == int and type(self.num2) == int:\n",
    "                result = self.num1 * self.num2\n",
    "                logger.debug(\"Multiplication successful\")\n",
    "                return result \n",
    "            else:\n",
    "                raise TypeError (\"Given number is not a number\")\n",
    "        except Exception as e:\n",
    "            logger.error(f\"Multiplication failed: {e}\")\n",
    "            \n",
    "    def divide(self):\n",
    "        '''\n",
    "        func will divide the 2 numbers provided.\n",
    "        '''\n",
    "        logger.info(\"Attempting to divide the numbers\")\n",
    "        try:\n",
    "            if type(self.num1) == float and type(self.num2) == float:\n",
    "                result = self.num1 / self.num2\n",
    "                logger.debug(\"Division successful\")\n",
    "                return result\n",
    "            elif type(self.num1) == int and type(self.num2) == int:\n",
    "                result = self.num1 / self.num2\n",
    "                logger.debug(\"Division successful\")\n",
    "                return result \n",
    "            else:\n",
    "                raise TypeError (\"Given number is not a number\")\n",
    "        except Exception as e:\n",
    "            logger.error(f\"Divison failed: {e}\")\n",
    "            \n",
    "    def log(self):\n",
    "        '''\n",
    "        func will log of 2 numbers provided.\n",
    "        '''\n",
    "        logger.info(\"Attempting to get the log of numbers\")\n",
    "        try:\n",
    "            if type(self.num1) == float and type(self.num2) == float:\n",
    "                result1 = math.log(self.num1)\n",
    "                result2 = math.log(self.num2)\n",
    "                logger.debug(\"Log successful\")\n",
    "                return result1, result2\n",
    "            elif type(self.num1) == int and type(self.num2) == int:\n",
    "                result1 = math.log(self.num1)\n",
    "                result2 = math.log(self.num2)\n",
    "                logger.debug(\"Log successful\")\n",
    "                return result \n",
    "            else:\n",
    "                raise TypeError (\"Given number is not a number\")\n",
    "        except Exception as e:\n",
    "            logger.error(f\"Log failed: {e}\")\n",
    "            \n",
    "    def power(self):\n",
    "        logger.info(\"Attempting to get the result\")\n",
    "        try:\n",
    "            if type(self.num1) == float and type(self.num2) == float:\n",
    "                result = self.num1 ** self.num2\n",
    "                logger.debug(\"power multiplication successful\")\n",
    "                return result\n",
    "            elif type(self.num1) == int and type(self.num2) == int:\n",
    "                result = self.num1 ** self.num2\n",
    "                logger.debug(\"power multiplication successful\")\n",
    "                return result \n",
    "            else:\n",
    "                raise TypeError (\"Given number is not a number\")\n",
    "        except Exception as e:\n",
    "            logger.error(f\"power multiplication failed: {e}\")"
   ]
  },
  {
   "cell_type": "code",
   "execution_count": null,
   "id": "b0355077-e0c9-4de4-b20f-5f76fc375ee7",
   "metadata": {
    "tags": []
   },
   "outputs": [],
   "source": [
    "1/2"
   ]
  },
  {
   "cell_type": "code",
   "execution_count": 22,
   "id": "1ec2c350-1c12-4ae0-8512-6a361d1593a5",
   "metadata": {
    "tags": []
   },
   "outputs": [],
   "source": [
    "cal = Calculator(4,0)"
   ]
  },
  {
   "cell_type": "code",
   "execution_count": 24,
   "id": "2498d655-e768-4914-8622-da03bd87121c",
   "metadata": {
    "tags": []
   },
   "outputs": [
    {
     "name": "stderr",
     "output_type": "stream",
     "text": [
      "20 | Attempting to add the numbers\n",
      "10 | Addition successful\n"
     ]
    },
    {
     "data": {
      "text/plain": [
       "4"
      ]
     },
     "execution_count": 24,
     "metadata": {},
     "output_type": "execute_result"
    }
   ],
   "source": [
    "cal.add()"
   ]
  },
  {
   "cell_type": "code",
   "execution_count": 26,
   "id": "816c0176-fff8-46f8-8f9b-872a92b4ffa1",
   "metadata": {
    "tags": []
   },
   "outputs": [
    {
     "name": "stderr",
     "output_type": "stream",
     "text": [
      "20 | Attempting to divide the numbers\n",
      "40 | Divison failed: division by zero\n"
     ]
    }
   ],
   "source": [
    "cal.divide()"
   ]
  },
  {
   "cell_type": "code",
   "execution_count": 10,
   "id": "151663b7-6777-430a-a75d-a40bd9426777",
   "metadata": {
    "tags": []
   },
   "outputs": [
    {
     "name": "stderr",
     "output_type": "stream",
     "text": [
      "20 | Attempting to multiply the numbers\n",
      "10 | Multiplication successful\n"
     ]
    },
    {
     "data": {
      "text/plain": [
       "20"
      ]
     },
     "execution_count": 10,
     "metadata": {},
     "output_type": "execute_result"
    }
   ],
   "source": [
    "cal.multiplication()"
   ]
  },
  {
   "cell_type": "code",
   "execution_count": 12,
   "id": "39dea0af-3622-472c-953e-45ca6cb85e6f",
   "metadata": {
    "tags": []
   },
   "outputs": [
    {
     "name": "stderr",
     "output_type": "stream",
     "text": [
      "20 | Attempting to get the result\n",
      "10 | power multiplication successful\n"
     ]
    },
    {
     "data": {
      "text/plain": [
       "1024"
      ]
     },
     "execution_count": 12,
     "metadata": {},
     "output_type": "execute_result"
    }
   ],
   "source": [
    "cal.power()"
   ]
  },
  {
   "cell_type": "code",
   "execution_count": 14,
   "id": "eb7c78a4-62a7-451a-abf3-aec02c3c6eb0",
   "metadata": {
    "tags": []
   },
   "outputs": [
    {
     "name": "stderr",
     "output_type": "stream",
     "text": [
      "20 | Attempting to subtract the numbers\n",
      "10 | Subtraction successful\n"
     ]
    },
    {
     "data": {
      "text/plain": [
       "-1"
      ]
     },
     "execution_count": 14,
     "metadata": {},
     "output_type": "execute_result"
    }
   ],
   "source": [
    "cal.subtract()"
   ]
  },
  {
   "cell_type": "code",
   "execution_count": null,
   "id": "401d0056-8367-4dbe-b84d-0c78c2ae9d65",
   "metadata": {},
   "outputs": [],
   "source": []
  }
 ],
 "metadata": {
  "kernelspec": {
   "display_name": "Python 3 (ipykernel)",
   "language": "python",
   "name": "python3"
  },
  "language_info": {
   "codemirror_mode": {
    "name": "ipython",
    "version": 3
   },
   "file_extension": ".py",
   "mimetype": "text/x-python",
   "name": "python",
   "nbconvert_exporter": "python",
   "pygments_lexer": "ipython3",
   "version": "3.10.0"
  }
 },
 "nbformat": 4,
 "nbformat_minor": 5
}
