{
 "cells": [
  {
   "cell_type": "code",
   "execution_count": 2,
   "id": "656e04cd-de4a-4a8f-a51f-3412780e8144",
   "metadata": {
    "tags": []
   },
   "outputs": [],
   "source": [
    "import os\n",
    "import logging as lg\n",
    "\n",
    "logger = lg.getLogger()\n",
    "logger.setLevel(lg.DEBUG)\n",
    "\n",
    "s_handler = lg.StreamHandler()\n",
    "f_handler = lg.FileHandler(\"file_class.log\")\n",
    "s_formatter = lg.Formatter(\"%(levelno)s | %(message)s\")\n",
    "f_formatter = lg.Formatter(\"%(asctime)s | %(levelname)s | %(message)s\")\n",
    "s_handler.setFormatter(s_formatter)\n",
    "f_handler.setFormatter(f_formatter)\n",
    "\n",
    "logger.addHandler(s_handler)\n",
    "logger.addHandler(f_handler)\n",
    "\n",
    "class File: \n",
    "    \n",
    "    def __init__(self,file_name):\n",
    "        self.file_name = file_name\n",
    "        \n",
    "    def file_read(self):\n",
    "        '''\n",
    "        func will read the file\n",
    "        '''\n",
    "        \n",
    "        logger.info(f\"trying to read the file...{self.file_name} \")\n",
    "        \n",
    "        try:\n",
    "            if os.path.exists(self.file_name):\n",
    "                with open(self.file_name, mode = \"r\") as fr:\n",
    "                    fr.seek(0)\n",
    "                    content = fr.readlines()\n",
    "                    logger.debug(\"Successfully read the file...\")\n",
    "                    return content\n",
    "            else:\n",
    "                raise FileNotFoundError (\"oops the file name is not correct.. check the path of the file\")\n",
    "        except FileNotFoundError as e:\n",
    "            logger.error(f\"oops you got an error {e}\")\n",
    "            \n",
    "    def add_file(self):\n",
    "        '''\n",
    "        this func will append to the file\n",
    "        '''\n",
    "        logger.info(\"trying to append the file\")\n",
    "        \n",
    "        try:\n",
    "            if os.path.exists(self.file_name):\n",
    "                with open(self.file_name, mode = \"a\") as fa:\n",
    "                    data = input(\"Enter data you would like to append!\")\n",
    "                    fa.write(data+\"\\n\")\n",
    "                    logger.debug(\"Data successufully appended\")\n",
    "            else:\n",
    "                raise FileNotFoundError (\"oops the file name is not correct.. check the path of the file\")\n",
    "        except Exception as e:\n",
    "            logger.error(f\"oh! you got an error : {e}\")\n",
    "            \n",
    "    def delete(self):\n",
    "        '''\n",
    "        func will delete the file\n",
    "        '''\n",
    "        logger.info(\"trying to delete the file\")\n",
    "        \n",
    "        try:\n",
    "            if os.path.exists(self.file_name):\n",
    "                os.remove(self.file_name)\n",
    "                logger.debug(\"File deleted\")\n",
    "            else:\n",
    "                raise FileNotFoundError(\"Nothing to delete... check the file path\")\n",
    "        except Exception as e:\n",
    "            logger.error(f\"oops. you got an error: {e}\")\n",
    "            \n",
    "class File_update(File):\n",
    "    def __init__(self,file_name):\n",
    "        self.file_name = file_name\n",
    "        super().__init__(file_name)\n",
    "        logger.info(\"Using func from parent class..\")"
   ]
  },
  {
   "cell_type": "code",
   "execution_count": 9,
   "id": "7f1327db-43e7-4617-b159-119612a6c747",
   "metadata": {
    "tags": []
   },
   "outputs": [
    {
     "name": "stderr",
     "output_type": "stream",
     "text": [
      "20 | Using func from parent class..\n"
     ]
    }
   ],
   "source": [
    "f = File_update(\"demo.txt\")"
   ]
  },
  {
   "cell_type": "code",
   "execution_count": 15,
   "id": "e8b863d5-043f-4ec6-a31b-d00e3c2ca607",
   "metadata": {
    "tags": []
   },
   "outputs": [
    {
     "name": "stderr",
     "output_type": "stream",
     "text": [
      "20 | trying to read the file...demo.txt \n",
      "10 | Successfully read the file...\n"
     ]
    },
    {
     "data": {
      "text/plain": [
       "['hey hie am Sneha \\n']"
      ]
     },
     "execution_count": 15,
     "metadata": {},
     "output_type": "execute_result"
    }
   ],
   "source": [
    "f.file_read()"
   ]
  },
  {
   "cell_type": "code",
   "execution_count": 17,
   "id": "9093b086-1d0d-46a8-b279-9964fc81ffa0",
   "metadata": {
    "tags": []
   },
   "outputs": [
    {
     "name": "stderr",
     "output_type": "stream",
     "text": [
      "20 | trying to append the file\n"
     ]
    },
    {
     "name": "stdin",
     "output_type": "stream",
     "text": [
      "Enter data you would like to append! What' your name?\n"
     ]
    },
    {
     "name": "stderr",
     "output_type": "stream",
     "text": [
      "10 | Data successufully appended\n"
     ]
    }
   ],
   "source": [
    "f.add_file()"
   ]
  },
  {
   "cell_type": "code",
   "execution_count": null,
   "id": "e438c8ce-1d34-49d3-835f-1b62e71c3bf5",
   "metadata": {
    "tags": []
   },
   "outputs": [],
   "source": [
    "f.delete()"
   ]
  },
  {
   "cell_type": "code",
   "execution_count": null,
   "id": "c1190447-dbdb-4c5e-afe0-99fda98056fd",
   "metadata": {},
   "outputs": [],
   "source": []
  }
 ],
 "metadata": {
  "kernelspec": {
   "display_name": "Python 3 (ipykernel)",
   "language": "python",
   "name": "python3"
  },
  "language_info": {
   "codemirror_mode": {
    "name": "ipython",
    "version": 3
   },
   "file_extension": ".py",
   "mimetype": "text/x-python",
   "name": "python",
   "nbconvert_exporter": "python",
   "pygments_lexer": "ipython3",
   "version": "3.10.0"
  }
 },
 "nbformat": 4,
 "nbformat_minor": 5
}
