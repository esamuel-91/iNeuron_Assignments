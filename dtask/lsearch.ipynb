{
 "cells": [
  {
   "cell_type": "code",
   "execution_count": 2,
   "id": "03930eda-424b-4420-ab41-88344adc8fe0",
   "metadata": {
    "tags": []
   },
   "outputs": [],
   "source": [
    "import logging as lg\n",
    "\n",
    "logger = lg.getLogger()\n",
    "\n",
    "##setting level\n",
    "logger.setLevel(lg.DEBUG)\n",
    "\n",
    "## creating handlers\n",
    "\n",
    "shandler = lg.StreamHandler()\n",
    "fhandler = lg.FileHandler(\"lsearch.log\")\n",
    "sformatter = lg.Formatter(\"%(levelno)s | %(message)s\")\n",
    "fformatter = lg.Formatter(\"%(asctime)s | %(levelname)s | %(message)s\")\n",
    "shandler.setFormatter(sformatter)\n",
    "fhandler.setFormatter(fformatter)\n",
    "\n",
    "## adding handlers to the logger \n",
    "logger.addHandler(shandler)\n",
    "logger.addHandler(fhandler)\n",
    "\n",
    "class Lsearch:\n",
    "    \n",
    "    def __init__(self, lis, value):\n",
    "        self.lis = lis\n",
    "        self.value = value\n",
    "        \n",
    "    def lsearch(self):\n",
    "        logger.info(\"Trying to search for the value in the list\")\n",
    "        \n",
    "        try:\n",
    "            data = self.lis\n",
    "            if self.value in data:\n",
    "                logger.debug(\"Value found\")\n",
    "                return (f'value found in index location {data.index(self.value)} : {self.value}')\n",
    "            else:\n",
    "                logger.error(\"oops you got an error\")\n",
    "                raise ValueError(f\"Value {self.value} not found in the list: {self.lis}\")\n",
    "            \n",
    "        except ValueError as e:\n",
    "            logger.error(f\"Got an error while searching the list: {e}\")"
   ]
  },
  {
   "cell_type": "code",
   "execution_count": 15,
   "id": "b25526a5-a240-45d1-b967-213905767c91",
   "metadata": {
    "tags": []
   },
   "outputs": [],
   "source": [
    "lser_obj = Lsearch([1,2,3,4,5,6,\"Sam\"],\"Sneha\")"
   ]
  },
  {
   "cell_type": "code",
   "execution_count": 17,
   "id": "92da83b7-1b1e-4a24-886d-e4ded7b332b7",
   "metadata": {
    "tags": []
   },
   "outputs": [
    {
     "name": "stderr",
     "output_type": "stream",
     "text": [
      "20 | Trying to search for the value in the list\n",
      "40 | oops you got an error\n",
      "40 | Got an error while searching the list: Value Sneha not found in the list: [1, 2, 3, 4, 5, 6, 'Sam']\n"
     ]
    }
   ],
   "source": [
    "lser_obj.lsearch()"
   ]
  },
  {
   "cell_type": "code",
   "execution_count": null,
   "id": "52f45fcd-86ec-445c-bcb4-420000a118b6",
   "metadata": {
    "tags": []
   },
   "outputs": [],
   "source": []
  },
  {
   "cell_type": "code",
   "execution_count": null,
   "id": "6f77e6ca-9042-4b95-821b-38637d38e9c7",
   "metadata": {},
   "outputs": [],
   "source": []
  }
 ],
 "metadata": {
  "kernelspec": {
   "display_name": "Python 3 (ipykernel)",
   "language": "python",
   "name": "python3"
  },
  "language_info": {
   "codemirror_mode": {
    "name": "ipython",
    "version": 3
   },
   "file_extension": ".py",
   "mimetype": "text/x-python",
   "name": "python",
   "nbconvert_exporter": "python",
   "pygments_lexer": "ipython3",
   "version": "3.11.7"
  }
 },
 "nbformat": 4,
 "nbformat_minor": 5
}
