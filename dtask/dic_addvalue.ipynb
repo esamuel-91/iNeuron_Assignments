{
 "cells": [
  {
   "cell_type": "code",
   "execution_count": 2,
   "id": "ce23ce37-50db-4b34-a3c4-09a33413d9a1",
   "metadata": {
    "tags": []
   },
   "outputs": [],
   "source": [
    "import logging as lg\n",
    "\n",
    "# Creating logger\n",
    "logger = lg.getLogger()\n",
    "logger.setLevel(lg.DEBUG)\n",
    "\n",
    "# Creating handlers\n",
    "shandler = lg.StreamHandler()\n",
    "fhandler = lg.FileHandler(\"dic_value.log\")\n",
    "sformatter = lg.Formatter(\"%(levelno)s | %(message)s\")\n",
    "fformatter = lg.Formatter(\"%(asctime)s | %(levelname)s | %(message)s\")\n",
    "\n",
    "# Setting formatter\n",
    "shandler.setFormatter(sformatter)\n",
    "fhandler.setFormatter(fformatter)\n",
    "\n",
    "# Adding handlers to the logger\n",
    "logger.addHandler(shandler)\n",
    "logger.addHandler(fhandler)\n",
    "\n",
    "class Dicadd:\n",
    "    \n",
    "    def __init__(self, dic1):\n",
    "        self.dic1 = dic1\n",
    "        \n",
    "    def addvalue(self):\n",
    "        logger.info(\"Trying to add the value to the Dictionary\")\n",
    "        \n",
    "        dic = self.dic1\n",
    "        \n",
    "        try:\n",
    "            if type(dic) == dict:\n",
    "                    key = input(\"Enter a key: \")\n",
    "                    value = input(\"Enter the value for the key: \")\n",
    "                    dic[key] = value\n",
    "                    logger.debug(f\"Value added successfully: {key}: {value}\")\n",
    "                    return self.dic1\n",
    "            else:\n",
    "                raise TypeError(f\"This is not a dic so values can't be added.. {dic}\")\n",
    "                \n",
    "        except Exception as e:\n",
    "            logger.error(f\"oops, you got an error: {e}\")"
   ]
  },
  {
   "cell_type": "code",
   "execution_count": 13,
   "id": "17b87b43-9044-4599-a317-268de6b97bfe",
   "metadata": {
    "tags": []
   },
   "outputs": [],
   "source": [
    "dic_obj = Dicadd([1,2,3,4,5,6,\"Sam\"])"
   ]
  },
  {
   "cell_type": "code",
   "execution_count": 15,
   "id": "1e95b8a6-8f15-4d72-ae7d-3c1b01be95bb",
   "metadata": {
    "tags": []
   },
   "outputs": [
    {
     "data": {
      "text/plain": [
       "[1, 2, 3, 4, 5, 6, 'Sam']"
      ]
     },
     "execution_count": 15,
     "metadata": {},
     "output_type": "execute_result"
    }
   ],
   "source": [
    "dic_obj.dic1"
   ]
  },
  {
   "cell_type": "code",
   "execution_count": 17,
   "id": "990a835c-2d6f-4993-b17c-8319c3341d77",
   "metadata": {
    "tags": []
   },
   "outputs": [
    {
     "name": "stderr",
     "output_type": "stream",
     "text": [
      "20 | Trying to add the value to the Dictionary\n",
      "40 | oops, you got an error: This is not a dic so values can't be added.. [1, 2, 3, 4, 5, 6, 'Sam']\n"
     ]
    }
   ],
   "source": [
    "dic_obj.addvalue()"
   ]
  },
  {
   "cell_type": "code",
   "execution_count": null,
   "id": "b8818c13-1fae-41c1-95bf-997f96dd2908",
   "metadata": {
    "tags": []
   },
   "outputs": [],
   "source": [
    "dic_obj.dic1"
   ]
  },
  {
   "cell_type": "code",
   "execution_count": null,
   "id": "11db6d6d-e4db-4ab3-b484-26e1a4c7f805",
   "metadata": {},
   "outputs": [],
   "source": []
  }
 ],
 "metadata": {
  "kernelspec": {
   "display_name": "Python 3 (ipykernel)",
   "language": "python",
   "name": "python3"
  },
  "language_info": {
   "codemirror_mode": {
    "name": "ipython",
    "version": 3
   },
   "file_extension": ".py",
   "mimetype": "text/x-python",
   "name": "python",
   "nbconvert_exporter": "python",
   "pygments_lexer": "ipython3",
   "version": "3.10.0"
  }
 },
 "nbformat": 4,
 "nbformat_minor": 5
}
